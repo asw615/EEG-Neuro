{
 "cells": [
  {
   "cell_type": "code",
   "execution_count": 1,
   "metadata": {},
   "outputs": [],
   "source": [
    "# import libraries\n",
    "import numpy as np\n",
    "import matplotlib.pyplot as plt\n",
    "from pathlib import Path\n",
    "import mne\n",
    "from scipy import stats"
   ]
  },
  {
   "cell_type": "code",
   "execution_count": 2,
   "metadata": {},
   "outputs": [
    {
     "name": "stdout",
     "output_type": "stream",
     "text": [
      "<class 'list'>\n",
      "1\n",
      "<class 'mne.epochs.EpochsFIF'>\n"
     ]
    }
   ],
   "source": [
    "# load in the data\n",
    "all_epochs = []\n",
    "\n",
    "data_path = Path(\"epochs/epochs-epo.fif\")\n",
    "epochs = mne.read_epochs(data_path, verbose=False, preload=True)\n",
    "\n",
    "# appending all epochs with only eeg channels\n",
    "all_epochs.append(epochs)\n",
    "\n",
    "print(type(all_epochs)) # we have now created a list of epochs objects\n",
    "print(len(all_epochs)) # we have 3 epochs objects in the list\n",
    "print(type(all_epochs[0])) # we can access the first epochs object in the list which is a Epochs object"
   ]
  },
  {
   "cell_type": "code",
   "execution_count": 3,
   "metadata": {},
   "outputs": [],
   "source": [
    "# chosen channels\n",
    "picks = [\"F3\", \"Fz\", \"F4\", \"C3\", \"Cz\"]\n",
    "\n",
    "# time window in seconds\n",
    "tmin = 0.6\n",
    "tmax = 0.8"
   ]
  },
  {
   "cell_type": "code",
   "execution_count": 4,
   "metadata": {},
   "outputs": [
    {
     "name": "stdout",
     "output_type": "stream",
     "text": [
      "[3.10751371e-06]\n",
      "[6.28399704e-07]\n",
      "(18, 5, 50)\n",
      "(14, 5, 50)\n"
     ]
    }
   ],
   "source": [
    "# create empty arrays to store the data \n",
    "incorrect = np.array([])\n",
    "correct = np.array([])\n",
    "\n",
    "for epochs in all_epochs: # loop over the list with epochs for each participant\n",
    "\n",
    "    # extract the trials you are interested in\n",
    "    epochs_incorrect = epochs[\"Incongruent_MF\", \"Incongruent_FM\"]\n",
    "    epochs_correct = epochs[\"Congruent_M\", \"Congruent_F\"]\n",
    "\n",
    "    # extract the data for the time window and channels of interest\n",
    "    data_incorrect = epochs_incorrect.get_data(picks = picks, tmin = tmin, tmax = tmax)\n",
    "    data_correct = epochs_correct.get_data(picks = picks, tmin = tmin, tmax = tmax)\n",
    "\n",
    "    # calculate the mean over the time, channel and trial dimension (axis 0, 1 and 2)\n",
    "    data_incorrect_mean = np.mean(data_incorrect, axis=(0, 1, 2))\n",
    "    data_correct_mean = np.mean(data_correct, axis=(0, 1, 2))\n",
    "\n",
    "    # append the data to the arrays\n",
    "    incorrect = np.append(incorrect, data_incorrect_mean)\n",
    "    correct = np.append(correct, data_correct_mean)\n",
    "\n",
    "print(correct)\n",
    "print(incorrect)\n",
    "print(data_incorrect.shape)\n",
    "print(data_correct.shape)"
   ]
  },
  {
   "cell_type": "code",
   "execution_count": 5,
   "metadata": {},
   "outputs": [
    {
     "name": "stdout",
     "output_type": "stream",
     "text": [
      "(18, 5)\n",
      "(18,)\n",
      "(14,)\n"
     ]
    },
    {
     "data": {
      "text/plain": [
       "TtestResult(statistic=1.1638099050331083, pvalue=0.253673852734941, df=30.0)"
      ]
     },
     "execution_count": 5,
     "metadata": {},
     "output_type": "execute_result"
    }
   ],
   "source": [
    "data_incorrect_mean = np.mean(data_incorrect, axis=2) # averaging over the third dimension of the data (time)\n",
    "print(data_incorrect_mean.shape)\n",
    "\n",
    "data_incorrect_mean = np.mean(data_incorrect_mean, axis=1) # averaging over the second dimension of the data (channels)\n",
    "print(data_incorrect_mean.shape)\n",
    "\n",
    "# you can also do this in one line\n",
    "data_correct_mean = np.mean(data_correct, axis=(1,2)) # averaging over the second and third dimension of the data (channels and time)\n",
    "print(data_correct_mean.shape)\n",
    "# now using paired t-test \n",
    "stats.ttest_ind(data_correct_mean, data_incorrect_mean)"
   ]
  }
 ],
 "metadata": {
  "kernelspec": {
   "display_name": "Python 3",
   "language": "python",
   "name": "python3"
  },
  "language_info": {
   "codemirror_mode": {
    "name": "ipython",
    "version": 3
   },
   "file_extension": ".py",
   "mimetype": "text/x-python",
   "name": "python",
   "nbconvert_exporter": "python",
   "pygments_lexer": "ipython3",
   "version": "3.11.0"
  }
 },
 "nbformat": 4,
 "nbformat_minor": 2
}
